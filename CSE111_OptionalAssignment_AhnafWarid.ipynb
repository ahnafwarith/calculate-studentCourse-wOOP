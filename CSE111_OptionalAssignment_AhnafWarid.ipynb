{
  "nbformat": 4,
  "nbformat_minor": 0,
  "metadata": {
    "colab": {
      "name": "CSE111_OptionalAssignment_AhnafWarid.ipynb",
      "provenance": []
    },
    "kernelspec": {
      "name": "python3",
      "display_name": "Python 3"
    },
    "language_info": {
      "name": "python"
    }
  },
  "cells": [
    {
      "cell_type": "markdown",
      "source": [
        "The student class has come back to haunt you.\n",
        "\n",
        "1. Open a blank Jupyter Notebook / Google Colab file.\n",
        "2. Make 2 “CODE” Segments in the following way:\n",
        "All of your classes will be in the “Class Code” section and all of your Driver code (making objects, calling methods) will be in the Driver Code section.\n",
        "3. Write a class Student such that:\n",
        "Mandatory Parameters: Name, ID, \n",
        "Optional Parameters: gender, DOB\n",
        "Make a new variable “uniqueKey” which concatenates a student’s name + ID. This will not be passed as a parameter, you have to generate this inside constructor yourself and assign it to a “self.uniqueKey” variable.\n",
        "\n",
        "Implement the following checks in the constructor:\n",
        "\n",
        "ID must have length of 8 digits. Otherwise print “Student ID must have 8 digits” \n",
        "\n",
        "Name must have more than 1 word, and the words will be separated by space. Any single name will not be allowed. E.g: “Robin” is not allowed but “Robin Hood” and “Robin Hood Jr” is allowed. If any invalid name is given, print “Invalid name given”\n",
        "\n",
        "4.  Make at least 4 objects of the Student class, to demonstrate how your code works for each scenario. E.g:\n",
        "One object to show it takes the mandatory parameters \n",
        "One object to show it takes both mandatory + optional parameters\n",
        "One object to show it does not take invalid ID\n",
        "One object to show it does not take invalid name\n",
        "\n",
        "5. Write a class Course. What should be the variables of Course class so that it does not become specific to any particular student? E.g: Saving the “grade achieved” or “semester completed” to a course object makes it specific to a particular student. Your “Course” class must have at least 3 variables, and none of the variables should be student-specific. Write an appropriate constructor method.\n",
        "\n",
        "6. Write a AddStudent() method in your Course class so that it takes a Student Object, and semester completed as the parameters and saves it to an existing set of student objects. {Hint: use a dictionary to save the Student object and semester completed together}\n",
        "\n",
        "E.g: if CSE111 is a Course object, and StudentA is a Student object, then the driver code will look like this:\n",
        "\n",
        "CSE111.AddStudent(StudentA, “Fall2016”)\n",
        "\n",
        "This code will add StudentA to CSE111’s student list, and will also save “Fall2016” as his semester completed.\n",
        "\n",
        "6. Make 3 objects of your Course class.\n",
        "\n",
        "7. In one of your Course objects, add the 2 valid student objects you made in Question 4 using the AddStudent() method.\n"
      ],
      "metadata": {
        "id": "_8kcUsxAWpeM"
      }
    },
    {
      "cell_type": "markdown",
      "source": [
        "# Class Code"
      ],
      "metadata": {
        "id": "eow-BbAxHAmE"
      }
    },
    {
      "cell_type": "code",
      "execution_count": 23,
      "metadata": {
        "colab": {
          "base_uri": "https://localhost:8080/"
        },
        "id": "4Gea8ZMZGyJ2",
        "outputId": "48b9a0f8-544f-4b74-9923-e97caf84c08f"
      },
      "outputs": [
        {
          "output_type": "stream",
          "name": "stdout",
          "text": [
            "Student ID must have 8 digits\n",
            "Invalid name given\n",
            "{'Samiha Bokhtier22101520': ({'gender': 'female', 'dob': '23/3/2001'}, 'Summer2022'), 'Ahnaf Warid22101802': ({'gender': 'Unknown', 'dob': 'Unknown'}, 'Summer2022')}\n"
          ]
        }
      ],
      "source": [
        "class Student:\n",
        "  def __init__(self, name, id, gender='Unknown', dob='Unknown'):\n",
        "    if len(str(id))!=8:   # Converting to str so that code does not fail if client gives id input in integers\n",
        "      print('Student ID must have 8 digits')\n",
        "      return   # Using return so that invalid student objects cannot be created\n",
        "    status = False\n",
        "    for letter in name:\n",
        "      if letter == ' ':\n",
        "        status = True\n",
        "    if status != True:\n",
        "      print('Invalid name given')\n",
        "      return\n",
        "    self.uniqueKey = name + id\n",
        "    self.otherInfo = {'gender':gender,'dob':dob}\n",
        "\n",
        "class Course:\n",
        "  def __init__(self,name,cre,flag,):\n",
        "    self.courseName = name\n",
        "    self.credits = cre\n",
        "    self.thesis = flag\n",
        "    self.studentsInfo = {}\n",
        "  \n",
        "  def addStudent(self,studentObj,sem):\n",
        "    self.studentsInfo[studentObj.uniqueKey] = (studentObj.otherInfo,sem)\n",
        "\n",
        "  def showDetails(self): # This method will show what is stored inside the object\n",
        "    print(self.studentsInfo)"
      ]
    },
    {
      "cell_type": "markdown",
      "source": [
        "# Driver Code"
      ],
      "metadata": {
        "id": "TcqwV4VLHEQ8"
      }
    },
    {
      "cell_type": "code",
      "source": [
        "s1 = Student('Ahnaf Warid','22101802')\n",
        "s2 = Student('Samiha Bokhtier','22101520','female','23/3/2001')\n",
        "s3 = Student('MI Shrabon','211092101')\n",
        "s4 = Student('Sadia','21301191')\n",
        "CSE111 = Course('CSE111',3,False)\n",
        "CSE230 = Course('CSE230',3,False)\n",
        "PHY111 = Course('PHY111',3,False)\n",
        "CSE460 = Course('CSE460',3,True)\n",
        "CSE111.addStudent(s2,'Summer2022')\n",
        "CSE111.addStudent(s1,'Summer2022')\n",
        "CSE111.showDetails()"
      ],
      "metadata": {
        "colab": {
          "base_uri": "https://localhost:8080/"
        },
        "id": "lFCXe2P5HABT",
        "outputId": "4b5569c3-b07f-46fb-f6d6-8b01b7ab8a28"
      },
      "execution_count": 1,
      "outputs": [
        {
          "output_type": "stream",
          "name": "stdout",
          "text": [
            "8\n"
          ]
        }
      ]
    }
  ]
}